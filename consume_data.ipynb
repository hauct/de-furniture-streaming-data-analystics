{
 "cells": [
  {
   "cell_type": "code",
   "execution_count": 1,
   "metadata": {},
   "outputs": [],
   "source": [
    "import findspark\n",
    "findspark.init()\n",
    "\n",
    "from pyspark.sql import SparkSession\n",
    "from pyspark.sql.functions import *\n",
    "from pyspark.sql.types import *"
   ]
  },
  {
   "cell_type": "code",
   "execution_count": 2,
   "metadata": {},
   "outputs": [],
   "source": [
    "spark = (SparkSession.builder\n",
    "            .appName(\"StoreAnalysis\")\n",
    "            .master(\"local[*]\")  # Use local Spark execution with all available cores\n",
    "            .config(\"spark.jars.packages\",\n",
    "                    \"org.apache.spark:spark-sql-kafka-0-10_2.12:3.3.0\")  # Spark-Kafka integration\n",
    "            .config(\"spark.jars\",\n",
    "                    \"postgresql-42.7.1.jar\")  # PostgreSQL driver\n",
    "            .config(\"spark.sql.adaptive.enabled\", \"false\")  # Disable adaptive query execution\n",
    "            .getOrCreate())"
   ]
  },
  {
   "cell_type": "code",
   "execution_count": 3,
   "metadata": {},
   "outputs": [
    {
     "name": "stdout",
     "output_type": "stream",
     "text": [
      "+------+--------------+----------+----------+--------------+-----------+---------------+---------+-------------+---------------+----------+-----------+------+---------------+---------------+------------+-----------------------------------------------------------+--------+--------+--------+--------+\n",
      "|row_id|order_id      |order_date|ship_date |ship_mode     |customer_id|customer_name  |segment  |country      |city           |state     |postal_code|region|product_id     |category       |sub_category|product_name                                               |sales   |quantity|discount|profit  |\n",
      "+------+--------------+----------+----------+--------------+-----------+---------------+---------+-------------+---------------+----------+-----------+------+---------------+---------------+------------+-----------------------------------------------------------+--------+--------+--------+--------+\n",
      "|1     |CA-2016-152156|11/8/2016 |11/11/2016|Second Class  |CG-12520   |Claire Gute    |Consumer |United States|Henderson      |Kentucky  |42420      |South |FUR-BO-10001798|Furniture      |Bookcases   |Bush Somerset Collection Bookcase                          |261.96  |2       |0       |41.9136 |\n",
      "|2     |CA-2016-152156|11/8/2016 |11/11/2016|Second Class  |CG-12520   |Claire Gute    |Consumer |United States|Henderson      |Kentucky  |42420      |South |FUR-CH-10000454|Furniture      |Chairs      |Hon Deluxe Fabric Upholstered Stacking Chairs, Rounded Back|731.94  |3       |0       |219.582 |\n",
      "|3     |CA-2016-138688|6/12/2016 |6/16/2016 |Second Class  |DV-13045   |Darrin Van Huff|Corporate|United States|Los Angeles    |California|90036      |West  |OFF-LA-10000240|Office Supplies|Labels      |Self-Adhesive Address Labels for Typewriters by Universal  |14.62   |2       |0       |6.8714  |\n",
      "|4     |US-2015-108966|10/11/2015|10/18/2015|Standard Class|SO-20335   |Sean O'Donnell |Consumer |United States|Fort Lauderdale|Florida   |33311      |South |FUR-TA-10000577|Furniture      |Tables      |Bretford CR4500 Series Slim Rectangular Table              |957.5775|5       |0.45    |-383.031|\n",
      "|5     |US-2015-108966|10/11/2015|10/18/2015|Standard Class|SO-20335   |Sean O'Donnell |Consumer |United States|Fort Lauderdale|Florida   |33311      |South |OFF-ST-10000760|Office Supplies|Storage     |Eldon Fold 'N Roll Cart System                             |22.368  |2       |0.2     |2.5164  |\n",
      "+------+--------------+----------+----------+--------------+-----------+---------------+---------+-------------+---------------+----------+-----------+------+---------------+---------------+------------+-----------------------------------------------------------+--------+--------+--------+--------+\n",
      "only showing top 5 rows\n",
      "\n"
     ]
    }
   ],
   "source": [
    "df = spark.read.option(\"header\", True).csv('sample_superstore.csv')\n",
    "df.show(5,False)"
   ]
  },
  {
   "cell_type": "code",
   "execution_count": 4,
   "metadata": {},
   "outputs": [],
   "source": [
    "store_schema = StructType([\n",
    "        StructField(\"ts_id\", StringType(), True),\n",
    "        StructField(\"ts\", StringType(), True),\n",
    "        StructField(\"customer_id\", StringType(), True),\n",
    "        StructField(\"customer_name\", StringType(), True),\n",
    "        StructField(\"segment\", StringType(), True),\n",
    "        StructField(\"country\", StringType(), True),\n",
    "        StructField(\"city\", StringType(), True),\n",
    "        StructField(\"category\", StringType(), True),\n",
    "        StructField(\"sub_category\", StringType(), True),\n",
    "        StructField(\"product_name\", StringType(), True),\n",
    "        StructField(\"price\", StringType(), True),\n",
    "        StructField(\"quantity\", StringType(), True),\n",
    "        StructField(\"discount\", StringType(), True),\n",
    "        StructField(\"revenue\", StringType(), True),\n",
    "        StructField(\"lat_long\", StringType(), True)\n",
    "])"
   ]
  },
  {
   "cell_type": "code",
   "execution_count": 5,
   "metadata": {},
   "outputs": [],
   "source": [
    "store_df = spark.readStream \\\n",
    "    .format(\"kafka\") \\\n",
    "    .option(\"kafka.bootstrap.servers\", \"broker:9092\") \\\n",
    "    .option(\"subscribe\", \"store\") \\\n",
    "    .option(\"startingOffsets\", \"earliest\") \\\n",
    "    .load()\n",
    "\n",
    "    # .selectExpr(\"CAST(value AS STRING)\") \\\n",
    "    # .select(from_json(col(\"value\"), store_schema).alias(\"data\")) \\\n",
    "    # .select(\"data.*\")"
   ]
  },
  {
   "cell_type": "code",
   "execution_count": 6,
   "metadata": {},
   "outputs": [
    {
     "data": {
      "text/plain": [
       "DataFrame[key: binary, value: binary, topic: string, partition: int, offset: bigint, timestamp: timestamp, timestampType: int]"
      ]
     },
     "execution_count": 6,
     "metadata": {},
     "output_type": "execute_result"
    }
   ],
   "source": [
    "store_df"
   ]
  },
  {
   "cell_type": "code",
   "execution_count": null,
   "metadata": {},
   "outputs": [],
   "source": []
  }
 ],
 "metadata": {
  "kernelspec": {
   "display_name": "base",
   "language": "python",
   "name": "python3"
  },
  "language_info": {
   "codemirror_mode": {
    "name": "ipython",
    "version": 3
   },
   "file_extension": ".py",
   "mimetype": "text/x-python",
   "name": "python",
   "nbconvert_exporter": "python",
   "pygments_lexer": "ipython3",
   "version": "3.11.5"
  }
 },
 "nbformat": 4,
 "nbformat_minor": 2
}
