{
 "cells": [
  {
   "cell_type": "code",
   "execution_count": 7,
   "metadata": {},
   "outputs": [],
   "source": [
    "from pyspark.sql import SparkSession\n",
    "from pyspark.sql.functions import *\n",
    "from pyspark.sql.types import *"
   ]
  },
  {
   "cell_type": "code",
   "execution_count": 8,
   "metadata": {},
   "outputs": [],
   "source": [
    "spark = SparkSession.builder \\\n",
    "    .appName('local') \\\n",
    "    .getOrCreate()"
   ]
  },
  {
   "cell_type": "code",
   "execution_count": 11,
   "metadata": {},
   "outputs": [
    {
     "name": "stdout",
     "output_type": "stream",
     "text": [
      "+--------------------+-------------------+----------+-----------+-------------+---------+-------------+---------+----------+------------+--------------------+------+--------+--------+------------------+------------------+--------------------+\n",
      "|               ts_id|                 ts|   ts_date|customer_id|customer_name|  segment|      country|     city|  category|sub_category|        product_name| price|quantity|discount|           revenue|            profit|            lat_long|\n",
      "+--------------------+-------------------+----------+-----------+-------------+---------+-------------+---------+----------+------------+--------------------+------+--------+--------+------------------+------------------+--------------------+\n",
      "|fcbd7946-1ffb-47c...|2023-12-02 17:10:32|2023-12-02|   ES-14080|   Erin Smith|Corporate|United States|Melbourne|Technology|      Phones|Mitel MiVoice 533...|274.99|      11|       0|3024.8900000000003|3024.8900000000003|(28.106471, -80.6...|\n",
      "|4ca46672-1fd2-4ca...|2023-12-02 04:56:42|2023-12-02|   PB-19150| Philip Brown| Consumer|United States|  Seattle|Technology|      Phones|Avaya 5420 Digita...|134.99|       3|     0.5|            404.97|           202.485|(47.6038321, -122...|\n",
      "+--------------------+-------------------+----------+-----------+-------------+---------+-------------+---------+----------+------------+--------------------+------+--------+--------+------------------+------------------+--------------------+\n",
      "\n"
     ]
    }
   ],
   "source": [
    "df = spark.read.parquet('./records/2023-12-2.parquet')\n",
    "df.show()"
   ]
  },
  {
   "cell_type": "code",
   "execution_count": 12,
   "metadata": {},
   "outputs": [
    {
     "name": "stdout",
     "output_type": "stream",
     "text": [
      "+------------------+\n",
      "|      sum(revenue)|\n",
      "+------------------+\n",
      "|3429.8600000000006|\n",
      "+------------------+\n",
      "\n"
     ]
    }
   ],
   "source": [
    "df\\\n",
    ".filter(col('ts_date')=='2023-12-02')\\\n",
    ".agg(sum(col('revenue')))\\\n",
    ".show()"
   ]
  },
  {
   "cell_type": "code",
   "execution_count": null,
   "metadata": {},
   "outputs": [],
   "source": []
  }
 ],
 "metadata": {
  "kernelspec": {
   "display_name": "base",
   "language": "python",
   "name": "python3"
  },
  "language_info": {
   "codemirror_mode": {
    "name": "ipython",
    "version": 3
   },
   "file_extension": ".py",
   "mimetype": "text/x-python",
   "name": "python",
   "nbconvert_exporter": "python",
   "pygments_lexer": "ipython3",
   "version": "3.11.3"
  }
 },
 "nbformat": 4,
 "nbformat_minor": 2
}
