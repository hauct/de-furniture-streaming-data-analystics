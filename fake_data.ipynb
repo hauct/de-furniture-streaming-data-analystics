{
 "cells": [
  {
   "cell_type": "code",
   "execution_count": 55,
   "metadata": {},
   "outputs": [],
   "source": [
    "from datetime import datetime, timedelta\n",
    "import pandas as pd\n",
    "import numpy as np\n",
    "import random\n",
    "from geopy.geocoders import Nominatim\n",
    "from retrying import retry\n",
    "import uuid\n",
    "\n",
    "pd.set_option(\"display.max_columns\", None)"
   ]
  },
  {
   "cell_type": "code",
   "execution_count": 56,
   "metadata": {},
   "outputs": [
    {
     "data": {
      "text/html": [
       "<div>\n",
       "<style scoped>\n",
       "    .dataframe tbody tr th:only-of-type {\n",
       "        vertical-align: middle;\n",
       "    }\n",
       "\n",
       "    .dataframe tbody tr th {\n",
       "        vertical-align: top;\n",
       "    }\n",
       "\n",
       "    .dataframe thead th {\n",
       "        text-align: right;\n",
       "    }\n",
       "</style>\n",
       "<table border=\"1\" class=\"dataframe\">\n",
       "  <thead>\n",
       "    <tr style=\"text-align: right;\">\n",
       "      <th></th>\n",
       "      <th>row_id</th>\n",
       "      <th>order_id</th>\n",
       "      <th>order_date</th>\n",
       "      <th>ship_date</th>\n",
       "      <th>ship_mode</th>\n",
       "      <th>customer_id</th>\n",
       "      <th>customer_name</th>\n",
       "      <th>segment</th>\n",
       "      <th>country</th>\n",
       "      <th>city</th>\n",
       "      <th>state</th>\n",
       "      <th>postal_code</th>\n",
       "      <th>region</th>\n",
       "      <th>product_id</th>\n",
       "      <th>category</th>\n",
       "      <th>sub_category</th>\n",
       "      <th>product_name</th>\n",
       "      <th>sales</th>\n",
       "      <th>quantity</th>\n",
       "      <th>discount</th>\n",
       "      <th>profit</th>\n",
       "    </tr>\n",
       "  </thead>\n",
       "  <tbody>\n",
       "    <tr>\n",
       "      <th>0</th>\n",
       "      <td>1</td>\n",
       "      <td>CA-2016-152156</td>\n",
       "      <td>11/8/2016</td>\n",
       "      <td>11/11/2016</td>\n",
       "      <td>Second Class</td>\n",
       "      <td>CG-12520</td>\n",
       "      <td>Claire Gute</td>\n",
       "      <td>Consumer</td>\n",
       "      <td>United States</td>\n",
       "      <td>Henderson</td>\n",
       "      <td>Kentucky</td>\n",
       "      <td>42420</td>\n",
       "      <td>South</td>\n",
       "      <td>FUR-BO-10001798</td>\n",
       "      <td>Furniture</td>\n",
       "      <td>Bookcases</td>\n",
       "      <td>Bush Somerset Collection Bookcase</td>\n",
       "      <td>261.9600</td>\n",
       "      <td>2</td>\n",
       "      <td>0.00</td>\n",
       "      <td>41.9136</td>\n",
       "    </tr>\n",
       "    <tr>\n",
       "      <th>1</th>\n",
       "      <td>2</td>\n",
       "      <td>CA-2016-152156</td>\n",
       "      <td>11/8/2016</td>\n",
       "      <td>11/11/2016</td>\n",
       "      <td>Second Class</td>\n",
       "      <td>CG-12520</td>\n",
       "      <td>Claire Gute</td>\n",
       "      <td>Consumer</td>\n",
       "      <td>United States</td>\n",
       "      <td>Henderson</td>\n",
       "      <td>Kentucky</td>\n",
       "      <td>42420</td>\n",
       "      <td>South</td>\n",
       "      <td>FUR-CH-10000454</td>\n",
       "      <td>Furniture</td>\n",
       "      <td>Chairs</td>\n",
       "      <td>Hon Deluxe Fabric Upholstered Stacking Chairs,...</td>\n",
       "      <td>731.9400</td>\n",
       "      <td>3</td>\n",
       "      <td>0.00</td>\n",
       "      <td>219.5820</td>\n",
       "    </tr>\n",
       "    <tr>\n",
       "      <th>2</th>\n",
       "      <td>3</td>\n",
       "      <td>CA-2016-138688</td>\n",
       "      <td>6/12/2016</td>\n",
       "      <td>6/16/2016</td>\n",
       "      <td>Second Class</td>\n",
       "      <td>DV-13045</td>\n",
       "      <td>Darrin Van Huff</td>\n",
       "      <td>Corporate</td>\n",
       "      <td>United States</td>\n",
       "      <td>Los Angeles</td>\n",
       "      <td>California</td>\n",
       "      <td>90036</td>\n",
       "      <td>West</td>\n",
       "      <td>OFF-LA-10000240</td>\n",
       "      <td>Office Supplies</td>\n",
       "      <td>Labels</td>\n",
       "      <td>Self-Adhesive Address Labels for Typewriters b...</td>\n",
       "      <td>14.6200</td>\n",
       "      <td>2</td>\n",
       "      <td>0.00</td>\n",
       "      <td>6.8714</td>\n",
       "    </tr>\n",
       "    <tr>\n",
       "      <th>3</th>\n",
       "      <td>4</td>\n",
       "      <td>US-2015-108966</td>\n",
       "      <td>10/11/2015</td>\n",
       "      <td>10/18/2015</td>\n",
       "      <td>Standard Class</td>\n",
       "      <td>SO-20335</td>\n",
       "      <td>Sean O'Donnell</td>\n",
       "      <td>Consumer</td>\n",
       "      <td>United States</td>\n",
       "      <td>Fort Lauderdale</td>\n",
       "      <td>Florida</td>\n",
       "      <td>33311</td>\n",
       "      <td>South</td>\n",
       "      <td>FUR-TA-10000577</td>\n",
       "      <td>Furniture</td>\n",
       "      <td>Tables</td>\n",
       "      <td>Bretford CR4500 Series Slim Rectangular Table</td>\n",
       "      <td>957.5775</td>\n",
       "      <td>5</td>\n",
       "      <td>0.45</td>\n",
       "      <td>-383.0310</td>\n",
       "    </tr>\n",
       "    <tr>\n",
       "      <th>4</th>\n",
       "      <td>5</td>\n",
       "      <td>US-2015-108966</td>\n",
       "      <td>10/11/2015</td>\n",
       "      <td>10/18/2015</td>\n",
       "      <td>Standard Class</td>\n",
       "      <td>SO-20335</td>\n",
       "      <td>Sean O'Donnell</td>\n",
       "      <td>Consumer</td>\n",
       "      <td>United States</td>\n",
       "      <td>Fort Lauderdale</td>\n",
       "      <td>Florida</td>\n",
       "      <td>33311</td>\n",
       "      <td>South</td>\n",
       "      <td>OFF-ST-10000760</td>\n",
       "      <td>Office Supplies</td>\n",
       "      <td>Storage</td>\n",
       "      <td>Eldon Fold 'N Roll Cart System</td>\n",
       "      <td>22.3680</td>\n",
       "      <td>2</td>\n",
       "      <td>0.20</td>\n",
       "      <td>2.5164</td>\n",
       "    </tr>\n",
       "  </tbody>\n",
       "</table>\n",
       "</div>"
      ],
      "text/plain": [
       "   row_id        order_id  order_date   ship_date       ship_mode customer_id  \\\n",
       "0       1  CA-2016-152156   11/8/2016  11/11/2016    Second Class    CG-12520   \n",
       "1       2  CA-2016-152156   11/8/2016  11/11/2016    Second Class    CG-12520   \n",
       "2       3  CA-2016-138688   6/12/2016   6/16/2016    Second Class    DV-13045   \n",
       "3       4  US-2015-108966  10/11/2015  10/18/2015  Standard Class    SO-20335   \n",
       "4       5  US-2015-108966  10/11/2015  10/18/2015  Standard Class    SO-20335   \n",
       "\n",
       "     customer_name    segment        country             city       state  \\\n",
       "0      Claire Gute   Consumer  United States        Henderson    Kentucky   \n",
       "1      Claire Gute   Consumer  United States        Henderson    Kentucky   \n",
       "2  Darrin Van Huff  Corporate  United States      Los Angeles  California   \n",
       "3   Sean O'Donnell   Consumer  United States  Fort Lauderdale     Florida   \n",
       "4   Sean O'Donnell   Consumer  United States  Fort Lauderdale     Florida   \n",
       "\n",
       "   postal_code region       product_id         category sub_category  \\\n",
       "0        42420  South  FUR-BO-10001798        Furniture    Bookcases   \n",
       "1        42420  South  FUR-CH-10000454        Furniture       Chairs   \n",
       "2        90036   West  OFF-LA-10000240  Office Supplies       Labels   \n",
       "3        33311  South  FUR-TA-10000577        Furniture       Tables   \n",
       "4        33311  South  OFF-ST-10000760  Office Supplies      Storage   \n",
       "\n",
       "                                        product_name     sales  quantity  \\\n",
       "0                  Bush Somerset Collection Bookcase  261.9600         2   \n",
       "1  Hon Deluxe Fabric Upholstered Stacking Chairs,...  731.9400         3   \n",
       "2  Self-Adhesive Address Labels for Typewriters b...   14.6200         2   \n",
       "3      Bretford CR4500 Series Slim Rectangular Table  957.5775         5   \n",
       "4                     Eldon Fold 'N Roll Cart System   22.3680         2   \n",
       "\n",
       "   discount    profit  \n",
       "0      0.00   41.9136  \n",
       "1      0.00  219.5820  \n",
       "2      0.00    6.8714  \n",
       "3      0.45 -383.0310  \n",
       "4      0.20    2.5164  "
      ]
     },
     "execution_count": 56,
     "metadata": {},
     "output_type": "execute_result"
    }
   ],
   "source": [
    "sample_df = pd.read_csv('sample_superstore.csv')\n",
    "sample_df.head()"
   ]
  },
  {
   "cell_type": "code",
   "execution_count": 57,
   "metadata": {},
   "outputs": [],
   "source": [
    "def get_lat_long(city, country):\n",
    "    geolocator = Nominatim(user_agent='hauct_geopy_key')\n",
    "    location = geolocator.geocode(f'{city}, {country}', timeout=10)\n",
    "\n",
    "    if location:\n",
    "        return location.latitude, location.longitude\n",
    "\n",
    "    return None"
   ]
  },
  {
   "cell_type": "code",
   "execution_count": 58,
   "metadata": {},
   "outputs": [],
   "source": [
    "# sample_df['lat_long'] = sample_df.apply(lambda row: get_lat_long(row['city'], row['country']), axis=1)\n",
    "# sample_df.head()"
   ]
  },
  {
   "cell_type": "code",
   "execution_count": null,
   "metadata": {},
   "outputs": [],
   "source": []
  },
  {
   "cell_type": "code",
   "execution_count": 59,
   "metadata": {},
   "outputs": [],
   "source": [
    "def extract_customer_info(sample_df):\n",
    "    customer_info_df = sample_df.loc[:, [\"customer_id\", \"customer_name\", 'segment', 'country', 'city']]\n",
    "    customer_info_df = customer_info_df.drop_duplicates()\n",
    "    return customer_info_df"
   ]
  },
  {
   "cell_type": "code",
   "execution_count": 60,
   "metadata": {},
   "outputs": [],
   "source": [
    "customer_info_df = extract_customer_info(sample_df)"
   ]
  },
  {
   "cell_type": "code",
   "execution_count": 61,
   "metadata": {},
   "outputs": [
    {
     "data": {
      "text/html": [
       "<div>\n",
       "<style scoped>\n",
       "    .dataframe tbody tr th:only-of-type {\n",
       "        vertical-align: middle;\n",
       "    }\n",
       "\n",
       "    .dataframe tbody tr th {\n",
       "        vertical-align: top;\n",
       "    }\n",
       "\n",
       "    .dataframe thead th {\n",
       "        text-align: right;\n",
       "    }\n",
       "</style>\n",
       "<table border=\"1\" class=\"dataframe\">\n",
       "  <thead>\n",
       "    <tr style=\"text-align: right;\">\n",
       "      <th></th>\n",
       "      <th>customer_id</th>\n",
       "      <th>customer_name</th>\n",
       "      <th>segment</th>\n",
       "      <th>country</th>\n",
       "      <th>city</th>\n",
       "    </tr>\n",
       "  </thead>\n",
       "  <tbody>\n",
       "    <tr>\n",
       "      <th>0</th>\n",
       "      <td>CG-12520</td>\n",
       "      <td>Claire Gute</td>\n",
       "      <td>Consumer</td>\n",
       "      <td>United States</td>\n",
       "      <td>Henderson</td>\n",
       "    </tr>\n",
       "    <tr>\n",
       "      <th>2</th>\n",
       "      <td>DV-13045</td>\n",
       "      <td>Darrin Van Huff</td>\n",
       "      <td>Corporate</td>\n",
       "      <td>United States</td>\n",
       "      <td>Los Angeles</td>\n",
       "    </tr>\n",
       "    <tr>\n",
       "      <th>3</th>\n",
       "      <td>SO-20335</td>\n",
       "      <td>Sean O'Donnell</td>\n",
       "      <td>Consumer</td>\n",
       "      <td>United States</td>\n",
       "      <td>Fort Lauderdale</td>\n",
       "    </tr>\n",
       "    <tr>\n",
       "      <th>5</th>\n",
       "      <td>BH-11710</td>\n",
       "      <td>Brosina Hoffman</td>\n",
       "      <td>Consumer</td>\n",
       "      <td>United States</td>\n",
       "      <td>Los Angeles</td>\n",
       "    </tr>\n",
       "    <tr>\n",
       "      <th>12</th>\n",
       "      <td>AA-10480</td>\n",
       "      <td>Andrew Allen</td>\n",
       "      <td>Consumer</td>\n",
       "      <td>United States</td>\n",
       "      <td>Concord</td>\n",
       "    </tr>\n",
       "  </tbody>\n",
       "</table>\n",
       "</div>"
      ],
      "text/plain": [
       "   customer_id    customer_name    segment        country             city\n",
       "0     CG-12520      Claire Gute   Consumer  United States        Henderson\n",
       "2     DV-13045  Darrin Van Huff  Corporate  United States      Los Angeles\n",
       "3     SO-20335   Sean O'Donnell   Consumer  United States  Fort Lauderdale\n",
       "5     BH-11710  Brosina Hoffman   Consumer  United States      Los Angeles\n",
       "12    AA-10480     Andrew Allen   Consumer  United States          Concord"
      ]
     },
     "execution_count": 61,
     "metadata": {},
     "output_type": "execute_result"
    }
   ],
   "source": [
    "customer_info_df.head()"
   ]
  },
  {
   "cell_type": "code",
   "execution_count": 62,
   "metadata": {},
   "outputs": [
    {
     "data": {
      "text/plain": [
       "{'customer_id': 'AA-10480',\n",
       " 'customer_name': 'Andrew Allen',\n",
       " 'segment': 'Consumer',\n",
       " 'country': 'United States',\n",
       " 'city': 'Concord'}"
      ]
     },
     "execution_count": 62,
     "metadata": {},
     "output_type": "execute_result"
    }
   ],
   "source": [
    "customer_info_df.to_dict('records')[4]"
   ]
  },
  {
   "cell_type": "code",
   "execution_count": 63,
   "metadata": {},
   "outputs": [],
   "source": [
    "def generate_customer_info(customer_info_df):\n",
    "    n = random.randint(0, len(customer_info_df))\n",
    "    return customer_info_df.to_dict('records')[n]"
   ]
  },
  {
   "cell_type": "code",
   "execution_count": 64,
   "metadata": {},
   "outputs": [],
   "source": [
    "def calculate_price(row):\n",
    "    return row['sales'] / row['quantity'] / (1 - row['discount'])\n",
    "\n",
    "def extract_product_info(sample_df):\n",
    "    product_info = sample_df.loc[:, [\"category\", 'sub_category', 'product_name', 'sales', 'quantity', 'discount']]\n",
    "    product_info['price'] = product_info.apply(calculate_price, axis=1)\n",
    "    product_info = product_info.loc[:, [\"category\", 'sub_category', 'product_name', 'price']]\n",
    "    product_info = product_info.drop_duplicates()\n",
    "    return product_info"
   ]
  },
  {
   "cell_type": "code",
   "execution_count": 65,
   "metadata": {},
   "outputs": [
    {
     "data": {
      "text/html": [
       "<div>\n",
       "<style scoped>\n",
       "    .dataframe tbody tr th:only-of-type {\n",
       "        vertical-align: middle;\n",
       "    }\n",
       "\n",
       "    .dataframe tbody tr th {\n",
       "        vertical-align: top;\n",
       "    }\n",
       "\n",
       "    .dataframe thead th {\n",
       "        text-align: right;\n",
       "    }\n",
       "</style>\n",
       "<table border=\"1\" class=\"dataframe\">\n",
       "  <thead>\n",
       "    <tr style=\"text-align: right;\">\n",
       "      <th></th>\n",
       "      <th>category</th>\n",
       "      <th>sub_category</th>\n",
       "      <th>product_name</th>\n",
       "      <th>price</th>\n",
       "    </tr>\n",
       "  </thead>\n",
       "  <tbody>\n",
       "    <tr>\n",
       "      <th>0</th>\n",
       "      <td>Furniture</td>\n",
       "      <td>Bookcases</td>\n",
       "      <td>Bush Somerset Collection Bookcase</td>\n",
       "      <td>130.98</td>\n",
       "    </tr>\n",
       "    <tr>\n",
       "      <th>1</th>\n",
       "      <td>Furniture</td>\n",
       "      <td>Chairs</td>\n",
       "      <td>Hon Deluxe Fabric Upholstered Stacking Chairs,...</td>\n",
       "      <td>243.98</td>\n",
       "    </tr>\n",
       "    <tr>\n",
       "      <th>2</th>\n",
       "      <td>Office Supplies</td>\n",
       "      <td>Labels</td>\n",
       "      <td>Self-Adhesive Address Labels for Typewriters b...</td>\n",
       "      <td>7.31</td>\n",
       "    </tr>\n",
       "    <tr>\n",
       "      <th>3</th>\n",
       "      <td>Furniture</td>\n",
       "      <td>Tables</td>\n",
       "      <td>Bretford CR4500 Series Slim Rectangular Table</td>\n",
       "      <td>348.21</td>\n",
       "    </tr>\n",
       "    <tr>\n",
       "      <th>4</th>\n",
       "      <td>Office Supplies</td>\n",
       "      <td>Storage</td>\n",
       "      <td>Eldon Fold 'N Roll Cart System</td>\n",
       "      <td>13.98</td>\n",
       "    </tr>\n",
       "  </tbody>\n",
       "</table>\n",
       "</div>"
      ],
      "text/plain": [
       "          category sub_category  \\\n",
       "0        Furniture    Bookcases   \n",
       "1        Furniture       Chairs   \n",
       "2  Office Supplies       Labels   \n",
       "3        Furniture       Tables   \n",
       "4  Office Supplies      Storage   \n",
       "\n",
       "                                        product_name   price  \n",
       "0                  Bush Somerset Collection Bookcase  130.98  \n",
       "1  Hon Deluxe Fabric Upholstered Stacking Chairs,...  243.98  \n",
       "2  Self-Adhesive Address Labels for Typewriters b...    7.31  \n",
       "3      Bretford CR4500 Series Slim Rectangular Table  348.21  \n",
       "4                     Eldon Fold 'N Roll Cart System   13.98  "
      ]
     },
     "execution_count": 65,
     "metadata": {},
     "output_type": "execute_result"
    }
   ],
   "source": [
    "product_info = extract_product_info(sample_df)\n",
    "product_info.head()"
   ]
  },
  {
   "cell_type": "code",
   "execution_count": 66,
   "metadata": {},
   "outputs": [],
   "source": [
    "def generate_product_info(product_info):\n",
    "    n = random.randint(0, len(product_info))\n",
    "    return product_info.to_dict('records')[n]"
   ]
  },
  {
   "cell_type": "code",
   "execution_count": 67,
   "metadata": {},
   "outputs": [
    {
     "data": {
      "text/plain": [
       "{'category': 'Office Supplies',\n",
       " 'sub_category': 'Binders',\n",
       " 'product_name': 'Avery Durable Slant Ring Binders',\n",
       " 'price': 7.92}"
      ]
     },
     "execution_count": 67,
     "metadata": {},
     "output_type": "execute_result"
    }
   ],
   "source": [
    "generate_product_info(product_info)"
   ]
  },
  {
   "cell_type": "code",
   "execution_count": 68,
   "metadata": {},
   "outputs": [],
   "source": [
    "def generate_date_time():\n",
    "    day = random.randint(1, 31)\n",
    "    hour = random.randint(0, 23)\n",
    "    minute = random.randint(0, 59)\n",
    "    second = random.randint(0, 59)\n",
    "\n",
    "    timestamp = datetime(2023, 12, day, hour, minute, second)\n",
    "\n",
    "    return timestamp.strftime('%Y-%m-%d %H:%M:%S')"
   ]
  },
  {
   "cell_type": "code",
   "execution_count": 69,
   "metadata": {},
   "outputs": [
    {
     "data": {
      "text/plain": [
       "'7056844e-337f-4825-9149-08e12c9766d4'"
      ]
     },
     "execution_count": 69,
     "metadata": {},
     "output_type": "execute_result"
    }
   ],
   "source": [
    "import uuid\n",
    "str(uuid.uuid4())"
   ]
  },
  {
   "cell_type": "code",
   "execution_count": 70,
   "metadata": {},
   "outputs": [],
   "source": [
    "def generate_log(n_records):\n",
    "    customer_info_df = extract_customer_info(sample_df)\n",
    "    product_info_df = extract_product_info(sample_df)\n",
    "    discount_list = [0.5, 0.4, 0.3, 0]\n",
    "    \n",
    "    for _ in range(n_records):\n",
    "        customer_info_dict = generate_customer_info(customer_info_df)\n",
    "        product_info_dict = generate_product_info(product_info_df)\n",
    "        quantity = random.randint(1,20)\n",
    "        discount = random.choices(discount_list, weights=(0.5,0.15,0.2,0.6))[0]\n",
    "        ts = generate_date_time()\n",
    "        \n",
    "        data = {'ts_id': f'{str(uuid.uuid4())}',\n",
    "                'ts':f'{ts}',\n",
    "                'customer_id':customer_info_dict['customer_id'],\n",
    "                'customer_name':customer_info_dict['customer_name'],\n",
    "                'segment':customer_info_dict['segment'],\n",
    "                'country':customer_info_dict['country'],\n",
    "                'city':customer_info_dict['city'],\n",
    "                'category':product_info_dict['category'],\n",
    "                'sub_category':product_info_dict['sub_category'],\n",
    "                'product_name':product_info_dict['product_name'],\n",
    "                'price':product_info_dict['price'],\n",
    "                'quantity':f'{quantity}',\n",
    "                'discount':f'{discount}',\n",
    "                'revenue': float(product_info_dict['price'])*quantity*(1-discount),\n",
    "                'lat_long': get_lat_long(customer_info_dict['city'], customer_info_dict['country'])\n",
    "                }\n",
    "        print(f'Sending data: {data}')"
   ]
  },
  {
   "cell_type": "code",
   "execution_count": 71,
   "metadata": {},
   "outputs": [
    {
     "name": "stdout",
     "output_type": "stream",
     "text": [
      "Sending data: {'ts_id': '81c88c25-4581-4894-96c3-5676d45f8a60', 'ts': '2023-12-30 18:47:33', 'customer_id': 'EM-14140', 'customer_name': 'Eugene Moren', 'segment': 'Home Office', 'country': 'United States', 'city': 'Santa Ana', 'category': 'Furniture', 'sub_category': 'Chairs', 'product_name': 'Office Star - Task Chair with Contemporary Loop Arms', 'price': 90.98, 'quantity': '20', 'discount': '0.3', 'revenue': 1273.72, 'lat_long': (33.7494951, -117.8732213)}\n",
      "Sending data: {'ts_id': '4ec044ab-acf5-4a94-bea3-234d4448e384', 'ts': '2023-12-10 17:23:00', 'customer_id': 'HF-14995', 'customer_name': 'Herbert Flentye', 'segment': 'Consumer', 'country': 'United States', 'city': 'San Francisco', 'category': 'Technology', 'sub_category': 'Phones', 'product_name': 'AT&T CL2909', 'price': 125.98999999999998, 'quantity': '9', 'discount': '0', 'revenue': 1133.9099999999999, 'lat_long': (37.7790262, -122.419906)}\n",
      "Sending data: {'ts_id': 'b23f4a57-3ec7-4e63-8063-60e9b3cbb2f9', 'ts': '2023-12-23 08:46:20', 'customer_id': 'GG-14650', 'customer_name': 'Greg Guthrie', 'segment': 'Corporate', 'country': 'United States', 'city': 'Bristol', 'category': 'Furniture', 'sub_category': 'Chairs', 'product_name': 'Lifetime Advantage Folding Chairs, 4/Carton', 'price': 218.07999999999998, 'quantity': '11', 'discount': '0', 'revenue': 2398.8799999999997, 'lat_long': (41.7425538, -71.0856545)}\n",
      "Sending data: {'ts_id': 'c2111445-026e-4c3c-8b21-405cdbdf18d0', 'ts': '2023-12-23 00:54:12', 'customer_id': 'LS-16975', 'customer_name': 'Lindsay Shagiari', 'segment': 'Home Office', 'country': 'United States', 'city': 'Los Angeles', 'category': 'Office Supplies', 'sub_category': 'Art', 'product_name': 'SANFORD Major Accent Highlighters', 'price': 7.079999999999999, 'quantity': '14', 'discount': '0.5', 'revenue': 49.559999999999995, 'lat_long': (34.0536909, -118.242766)}\n",
      "Sending data: {'ts_id': '4690aca0-59e6-499d-8373-51568c89e863', 'ts': '2023-12-15 17:03:12', 'customer_id': 'RP-19270', 'customer_name': 'Rachel Payne', 'segment': 'Corporate', 'country': 'United States', 'city': 'Houston', 'category': 'Office Supplies', 'sub_category': 'Storage', 'product_name': 'File Shuttle II and Handi-File, Black', 'price': 33.89, 'quantity': '13', 'discount': '0.5', 'revenue': 220.285, 'lat_long': (29.7589382, -95.3676974)}\n"
     ]
    },
    {
     "ename": "TypeError",
     "evalue": "'NoneType' object is not subscriptable",
     "output_type": "error",
     "traceback": [
      "\u001b[1;31m---------------------------------------------------------------------------\u001b[0m",
      "\u001b[1;31mTypeError\u001b[0m                                 Traceback (most recent call last)",
      "Cell \u001b[1;32mIn[71], line 2\u001b[0m\n\u001b[0;32m      1\u001b[0m data \u001b[38;5;241m=\u001b[39m generate_log(n_records \u001b[38;5;241m=\u001b[39m random\u001b[38;5;241m.\u001b[39mrandint(\u001b[38;5;241m1\u001b[39m,\u001b[38;5;241m10\u001b[39m))\n\u001b[1;32m----> 2\u001b[0m data[\u001b[38;5;124m'\u001b[39m\u001b[38;5;124mts_id\u001b[39m\u001b[38;5;124m'\u001b[39m]\n",
      "\u001b[1;31mTypeError\u001b[0m: 'NoneType' object is not subscriptable"
     ]
    }
   ],
   "source": [
    "data = generate_log(n_records = random.randint(1,10))\n",
    "data['ts_id']"
   ]
  },
  {
   "cell_type": "code",
   "execution_count": 72,
   "metadata": {},
   "outputs": [],
   "source": [
    "data"
   ]
  },
  {
   "cell_type": "code",
   "execution_count": 54,
   "metadata": {},
   "outputs": [
    {
     "name": "stdout",
     "output_type": "stream",
     "text": [
      "Sending data: {'ts_id': 'cf78cd61-343a-4dbf-a0b5-fb3be789608d', 'ts': '2023-12-27 06:57:47', 'customer_id': 'NK-18490', 'customer_name': 'Neil Knudson', 'segment': 'Home Office', 'country': 'United States', 'city': 'Corpus Christi', 'category': 'Office Supplies', 'sub_category': 'Paper', 'product_name': 'Geographics Note Cards, Blank, White, 8 1/2\" x 11\"', 'price': 11.19, 'quantity': '20', 'discount': '0', 'revenue': 223.79999999999998, 'lat_long': (27.7635302, -97.4033191)}\n",
      "Sending data: {'ts_id': '5aa09c05-13c3-400a-9f02-bc56ee011d3a', 'ts': '2023-12-15 19:14:32', 'customer_id': 'JC-15775', 'customer_name': 'John Castell', 'segment': 'Consumer', 'country': 'United States', 'city': 'Newark', 'category': 'Technology', 'sub_category': 'Phones', 'product_name': 'Ooma Telo VoIP Home Phone System', 'price': 125.99000000000001, 'quantity': '13', 'discount': '0.4', 'revenue': 982.722, 'lat_long': (40.735657, -74.1723667)}\n",
      "Sending data: {'ts_id': 'b4d228ee-54cf-4a7e-bee4-6636d8399059', 'ts': '2023-12-31 05:05:16', 'customer_id': 'VW-21775', 'customer_name': 'Victoria Wilson', 'segment': 'Corporate', 'country': 'United States', 'city': 'Montgomery', 'category': 'Office Supplies', 'sub_category': 'Paper', 'product_name': 'Southworth 25% Cotton Antique Laid Paper & Envelopes', 'price': 8.34, 'quantity': '9', 'discount': '0.3', 'revenue': 52.542, 'lat_long': (32.3669656, -86.3006485)}\n",
      "Sending data: {'ts_id': 'a1813b01-3387-4f8c-910c-e7fa6c75cf46', 'ts': '2023-12-19 11:14:12', 'customer_id': 'KB-16585', 'customer_name': 'Ken Black', 'segment': 'Corporate', 'country': 'United States', 'city': 'Hialeah', 'category': 'Office Supplies', 'sub_category': 'Binders', 'product_name': 'SlimView Poly Binder, 3/8\"', 'price': 5.18, 'quantity': '17', 'discount': '0.5', 'revenue': 44.03, 'lat_long': (25.8575963, -80.2781057)}\n"
     ]
    }
   ],
   "source": [
    "generate_log(n_records=4)"
   ]
  },
  {
   "cell_type": "code",
   "execution_count": 114,
   "metadata": {},
   "outputs": [
    {
     "data": {
      "text/plain": [
       "'2023-12-13 00:11:56'"
      ]
     },
     "execution_count": 114,
     "metadata": {},
     "output_type": "execute_result"
    }
   ],
   "source": [
    "ts = datetime.now().strftime('%Y-%m-%d %H:%M:%S')\n",
    "ts"
   ]
  },
  {
   "cell_type": "code",
   "execution_count": 111,
   "metadata": {},
   "outputs": [
    {
     "data": {
      "text/plain": [
       "Index(['customer_id', 'customer_name', 'segment', 'country', 'city'], dtype='object')"
      ]
     },
     "execution_count": 111,
     "metadata": {},
     "output_type": "execute_result"
    }
   ],
   "source": [
    "customer_info_df.columns"
   ]
  },
  {
   "cell_type": "code",
   "execution_count": 127,
   "metadata": {},
   "outputs": [
    {
     "data": {
      "text/plain": [
       "'0.4'"
      ]
     },
     "execution_count": 127,
     "metadata": {},
     "output_type": "execute_result"
    }
   ],
   "source": [
    "discount_list = ['0.5', '0.4', '0.3', '0']\n",
    "random.choices(discount_list, weights=(5,15,20,60))[0]"
   ]
  },
  {
   "cell_type": "code",
   "execution_count": null,
   "metadata": {},
   "outputs": [],
   "source": [
    "        quantity = random.randint(1,20)\n",
    "        discount = random.choices(discount_list, weights=(0.5,0.15,0.2,0.6))[0]\n"
   ]
  },
  {
   "cell_type": "code",
   "execution_count": 135,
   "metadata": {},
   "outputs": [
    {
     "data": {
      "text/plain": [
       "130.98"
      ]
     },
     "execution_count": 135,
     "metadata": {},
     "output_type": "execute_result"
    }
   ],
   "source": [
    "product_info_df = extract_product_info(sample_df)\n",
    "product_info_dict = generate_product_info(product_info_df)\n",
    "float(product_info_dict['price'])"
   ]
  },
  {
   "cell_type": "code",
   "execution_count": 136,
   "metadata": {},
   "outputs": [
    {
     "data": {
      "text/plain": [
       "1"
      ]
     },
     "execution_count": 136,
     "metadata": {},
     "output_type": "execute_result"
    }
   ],
   "source": [
    "quantity = random.randint(1,20)\n",
    "quantity"
   ]
  },
  {
   "cell_type": "code",
   "execution_count": 73,
   "metadata": {},
   "outputs": [],
   "source": [
    "@retry(wait_exponential_multiplier=1000, wait_exponential_max=10000)\n",
    "def get_lat_long(city, country):\n",
    "    geolocator = Nominatim(user_agent='hauct_geopy_key')\n",
    "    location = geolocator.geocode(f'{city}, {country}', timeout=10)\n",
    "\n",
    "    if location:\n",
    "        lat_long = f\"({location.latitude}, {location.longitude})\"\n",
    "        return lat_long\n",
    "\n",
    "    return None\n"
   ]
  },
  {
   "cell_type": "code",
   "execution_count": 74,
   "metadata": {},
   "outputs": [
    {
     "data": {
      "text/plain": [
       "'(16.4639321, 107.5863388)'"
      ]
     },
     "execution_count": 74,
     "metadata": {},
     "output_type": "execute_result"
    }
   ],
   "source": [
    "city = 'Viet Nam'\n",
    "country = 'Hue'\n",
    "get_lat_long(city, country)"
   ]
  },
  {
   "cell_type": "code",
   "execution_count": 75,
   "metadata": {},
   "outputs": [
    {
     "data": {
      "text/plain": [
       "str"
      ]
     },
     "execution_count": 75,
     "metadata": {},
     "output_type": "execute_result"
    }
   ],
   "source": [
    "type(get_lat_long(city, country))"
   ]
  },
  {
   "cell_type": "code",
   "execution_count": 76,
   "metadata": {},
   "outputs": [],
   "source": [
    "import findspark\n",
    "findspark.init()\n",
    "\n",
    "from pyspark.sql import SparkSession\n",
    "from pyspark.sql.functions import *\n",
    "from pyspark.sql.types import *"
   ]
  },
  {
   "cell_type": "code",
   "execution_count": 77,
   "metadata": {},
   "outputs": [],
   "source": [
    "spark = (SparkSession.builder\n",
    "            .appName(\"StoreAnalysis\")\n",
    "            .master(\"local[*]\")  # Use local Spark execution with all available cores\n",
    "            .config(\"spark.jars.packages\",\n",
    "                    \"org.apache.spark:spark-sql-kafka-0-10_2.13:3.5.0\")  # Spark-Kafka integration\n",
    "            .config(\"spark.jars\",\n",
    "                    \"postgresql-42.7.1.jar\")  # PostgreSQL driver\n",
    "            .config(\"spark.sql.adaptive.enabled\", \"false\")  # Disable adaptive query execution\n",
    "            .getOrCreate())"
   ]
  },
  {
   "cell_type": "code",
   "execution_count": 80,
   "metadata": {},
   "outputs": [
    {
     "name": "stdout",
     "output_type": "stream",
     "text": [
      "+------+--------------+----------+----------+--------------+-----------+---------------+---------+-------------+---------------+----------+-----------+------+---------------+---------------+------------+-----------------------------------------------------------+--------+--------+--------+--------+\n",
      "|row_id|order_id      |order_date|ship_date |ship_mode     |customer_id|customer_name  |segment  |country      |city           |state     |postal_code|region|product_id     |category       |sub_category|product_name                                               |sales   |quantity|discount|profit  |\n",
      "+------+--------------+----------+----------+--------------+-----------+---------------+---------+-------------+---------------+----------+-----------+------+---------------+---------------+------------+-----------------------------------------------------------+--------+--------+--------+--------+\n",
      "|1     |CA-2016-152156|11/8/2016 |11/11/2016|Second Class  |CG-12520   |Claire Gute    |Consumer |United States|Henderson      |Kentucky  |42420      |South |FUR-BO-10001798|Furniture      |Bookcases   |Bush Somerset Collection Bookcase                          |261.96  |2       |0       |41.9136 |\n",
      "|2     |CA-2016-152156|11/8/2016 |11/11/2016|Second Class  |CG-12520   |Claire Gute    |Consumer |United States|Henderson      |Kentucky  |42420      |South |FUR-CH-10000454|Furniture      |Chairs      |Hon Deluxe Fabric Upholstered Stacking Chairs, Rounded Back|731.94  |3       |0       |219.582 |\n",
      "|3     |CA-2016-138688|6/12/2016 |6/16/2016 |Second Class  |DV-13045   |Darrin Van Huff|Corporate|United States|Los Angeles    |California|90036      |West  |OFF-LA-10000240|Office Supplies|Labels      |Self-Adhesive Address Labels for Typewriters by Universal  |14.62   |2       |0       |6.8714  |\n",
      "|4     |US-2015-108966|10/11/2015|10/18/2015|Standard Class|SO-20335   |Sean O'Donnell |Consumer |United States|Fort Lauderdale|Florida   |33311      |South |FUR-TA-10000577|Furniture      |Tables      |Bretford CR4500 Series Slim Rectangular Table              |957.5775|5       |0.45    |-383.031|\n",
      "|5     |US-2015-108966|10/11/2015|10/18/2015|Standard Class|SO-20335   |Sean O'Donnell |Consumer |United States|Fort Lauderdale|Florida   |33311      |South |OFF-ST-10000760|Office Supplies|Storage     |Eldon Fold 'N Roll Cart System                             |22.368  |2       |0.2     |2.5164  |\n",
      "+------+--------------+----------+----------+--------------+-----------+---------------+---------+-------------+---------------+----------+-----------+------+---------------+---------------+------------+-----------------------------------------------------------+--------+--------+--------+--------+\n",
      "only showing top 5 rows\n",
      "\n"
     ]
    }
   ],
   "source": [
    "df = spark.read.option(\"header\", True).csv('sample_superstore.csv')\n",
    "df.show(5,False)"
   ]
  },
  {
   "cell_type": "code",
   "execution_count": null,
   "metadata": {},
   "outputs": [],
   "source": []
  }
 ],
 "metadata": {
  "kernelspec": {
   "display_name": "base",
   "language": "python",
   "name": "python3"
  },
  "language_info": {
   "codemirror_mode": {
    "name": "ipython",
    "version": 3
   },
   "file_extension": ".py",
   "mimetype": "text/x-python",
   "name": "python",
   "nbconvert_exporter": "python",
   "pygments_lexer": "ipython3",
   "version": "3.11.5"
  }
 },
 "nbformat": 4,
 "nbformat_minor": 2
}
